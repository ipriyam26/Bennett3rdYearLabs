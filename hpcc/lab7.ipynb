{
 "cells": [
  {
   "cell_type": "code",
   "execution_count": 1,
   "metadata": {},
   "outputs": [
    {
     "name": "stdout",
     "output_type": "stream",
     "text": [
      "Collecting numba\n",
      "  Downloading numba-0.56.3-cp37-cp37m-macosx_10_14_x86_64.whl (2.4 MB)\n",
      "\u001b[2K     \u001b[90m━━━━━━━━━━━━━━━━━━━━━━━━━━━━━━━━━━━━━━━━\u001b[0m \u001b[32m2.4/2.4 MB\u001b[0m \u001b[31m2.9 MB/s\u001b[0m eta \u001b[36m0:00:00\u001b[0m00:01\u001b[0m00:01\u001b[0m0m\n",
      "\u001b[?25hCollecting llvmlite<0.40,>=0.39.0dev0\n",
      "  Downloading llvmlite-0.39.1-cp37-cp37m-macosx_10_9_x86_64.whl (25.5 MB)\n",
      "\u001b[2K     \u001b[90m━━━━━━━━━━━━━━━━━━━━━━━━━━━━━━━━━━━━━━━━\u001b[0m \u001b[32m25.5/25.5 MB\u001b[0m \u001b[31m3.4 MB/s\u001b[0m eta \u001b[36m0:00:00\u001b[0m00:01\u001b[0m00:01\u001b[0m\n",
      "\u001b[?25hRequirement already satisfied: importlib-metadata in /Library/Frameworks/Python.framework/Versions/3.7/lib/python3.7/site-packages (from numba) (4.11.3)\n",
      "Requirement already satisfied: setuptools in /Library/Frameworks/Python.framework/Versions/3.7/lib/python3.7/site-packages (from numba) (39.0.1)\n",
      "Requirement already satisfied: numpy<1.24,>=1.18 in /Library/Frameworks/Python.framework/Versions/3.7/lib/python3.7/site-packages (from numba) (1.21.5)\n",
      "Requirement already satisfied: typing-extensions>=3.6.4 in /Library/Frameworks/Python.framework/Versions/3.7/lib/python3.7/site-packages (from importlib-metadata->numba) (4.1.1)\n",
      "Requirement already satisfied: zipp>=0.5 in /Library/Frameworks/Python.framework/Versions/3.7/lib/python3.7/site-packages (from importlib-metadata->numba) (3.7.0)\n",
      "Installing collected packages: llvmlite, numba\n",
      "Successfully installed llvmlite-0.39.1 numba-0.56.3\n"
     ]
    }
   ],
   "source": [
    "!pip install numba"
   ]
  },
  {
   "cell_type": "code",
   "execution_count": 2,
   "metadata": {
    "collapsed": true,
    "id": "CTwW5KOTol8F"
   },
   "outputs": [],
   "source": [
    "from numba import jit"
   ]
  },
  {
   "cell_type": "markdown",
   "metadata": {
    "id": "sPGrwGWYomfq"
   },
   "source": [
    "# Q1"
   ]
  },
  {
   "cell_type": "code",
   "execution_count": 3,
   "metadata": {
    "id": "QiIkVQwjZYaX"
   },
   "outputs": [],
   "source": [
    "\n",
    "def bubblesort(X):\n",
    "    N = len(X)\n",
    "    for end in range(N, 1, -1):\n",
    "        for i in range(end - 1):\n",
    "            cur = X[i]\n",
    "            if cur > X[i + 1]:\n",
    "                tmp = X[i]\n",
    "                X[i] = X[i + 1]\n",
    "                X[i + 1] = tmp"
   ]
  },
  {
   "cell_type": "markdown",
   "metadata": {
    "id": "tswCJgWaolMs"
   },
   "source": []
  },
  {
   "cell_type": "code",
   "execution_count": 4,
   "metadata": {
    "collapsed": true,
    "id": "MH6XuNFLZUHX"
   },
   "outputs": [],
   "source": [
    "import numpy as np\n",
    "original = np.arange(0.0, 10.0, 0.01, dtype='f4')\n",
    "shuffled = original.copy()\n",
    "np.random.shuffle(shuffled)"
   ]
  },
  {
   "cell_type": "code",
   "execution_count": 5,
   "metadata": {
    "id": "1iBHpIE4ZPzY"
   },
   "outputs": [
    {
     "name": "stdout",
     "output_type": "stream",
     "text": [
      "True\n"
     ]
    }
   ],
   "source": [
    "sorted = shuffled.copy()\n",
    "bubblesort(sorted)\n",
    "print(np.array_equal(sorted, original))"
   ]
  },
  {
   "cell_type": "code",
   "execution_count": 6,
   "metadata": {
    "id": "LPorcJ2fY9Hh"
   },
   "outputs": [
    {
     "name": "stdout",
     "output_type": "stream",
     "text": [
      "864 ms ± 150 ms per loop (mean ± std. dev. of 7 runs, 1 loop each)\n"
     ]
    }
   ],
   "source": [
    "%timeit sorted[:] = shuffled[:]; bubblesort(sorted)\n"
   ]
  },
  {
   "cell_type": "code",
   "execution_count": 7,
   "metadata": {
    "collapsed": true,
    "id": "7MDA5jUgYpaz"
   },
   "outputs": [],
   "source": [
    "#Complete the Solution to Q1 (i) here.\n",
    "\n",
    "@jit\n",
    "def bubblesort(X):\n",
    "    N = len(X)\n",
    "    for end in range(N, 1, -1):\n",
    "        for i in range(end - 1):\n",
    "            cur = X[i]\n",
    "            if cur > X[i + 1]:\n",
    "                tmp = X[i]\n",
    "                X[i] = X[i + 1]\n",
    "                X[i + 1] = tmp"
   ]
  },
  {
   "cell_type": "code",
   "execution_count": 8,
   "metadata": {},
   "outputs": [
    {
     "name": "stdout",
     "output_type": "stream",
     "text": [
      "True\n"
     ]
    }
   ],
   "source": [
    "sorted = shuffled.copy()\n",
    "bubblesort(sorted)\n",
    "print(np.array_equal(sorted, original))"
   ]
  },
  {
   "cell_type": "code",
   "execution_count": 9,
   "metadata": {
    "id": "YuXB6DOcY3bH"
   },
   "outputs": [
    {
     "name": "stdout",
     "output_type": "stream",
     "text": [
      "1.49 ms ± 488 µs per loop (mean ± std. dev. of 7 runs, 1,000 loops each)\n"
     ]
    }
   ],
   "source": [
    "#Measure the time of your optimized implementation by running this cell\n",
    "\n",
    "%timeit sorted[:] = shuffled[:]; bubblesort(sorted)"
   ]
  },
  {
   "cell_type": "code",
   "execution_count": 10,
   "metadata": {},
   "outputs": [],
   "source": [
    "from numba import jit, int32, float64"
   ]
  },
  {
   "cell_type": "code",
   "execution_count": 11,
   "metadata": {},
   "outputs": [
    {
     "name": "stderr",
     "output_type": "stream",
     "text": [
      "C:\\Users\\aasha\\AppData\\Local\\Temp\\ipykernel_37632\\1385991434.py:1: NumbaWarning: \u001b[1m\n",
      "Compilation is falling back to object mode WITH looplifting enabled because Function \"bubblesort\" failed type inference due to: \u001b[1m\u001b[1mNo conversion from none to float64 for '$108return_value.1', defined at None\n",
      "\u001b[1m\n",
      "File \"..\\AppData\\Local\\Temp\\ipykernel_37632\\1385991434.py\", line 10:\u001b[0m\n",
      "\u001b[1m<source missing, REPL/exec in use?>\u001b[0m\n",
      "\u001b[0m\n",
      "\u001b[0m\u001b[1mDuring: typing of assignment at C:\\Users\\aasha\\AppData\\Local\\Temp\\ipykernel_37632\\1385991434.py (10)\u001b[0m\n",
      "\u001b[1m\n",
      "File \"..\\AppData\\Local\\Temp\\ipykernel_37632\\1385991434.py\", line 10:\u001b[0m\n",
      "\u001b[1m<source missing, REPL/exec in use?>\u001b[0m\n",
      "\u001b[0m\n",
      "  @jit(float64(float64[:]))\n",
      "C:\\Users\\aasha\\AppData\\Local\\Temp\\ipykernel_37632\\1385991434.py:1: NumbaWarning: \u001b[1m\n",
      "Compilation is falling back to object mode WITHOUT looplifting enabled because Function \"bubblesort\" failed type inference due to: \u001b[1m\u001b[1mcannot determine Numba type of <class 'numba.core.dispatcher.LiftedLoop'>\u001b[0m\n",
      "\u001b[1m\n",
      "File \"..\\AppData\\Local\\Temp\\ipykernel_37632\\1385991434.py\", line 4:\u001b[0m\n",
      "\u001b[1m<source missing, REPL/exec in use?>\u001b[0m\n",
      "\u001b[0m\u001b[0m\n",
      "  @jit(float64(float64[:]))\n",
      "c:\\Users\\aasha\\Anaconda3\\lib\\site-packages\\numba\\core\\object_mode_passes.py:177: NumbaWarning: \u001b[1mFunction \"bubblesort\" was compiled in object mode without forceobj=True, but has lifted loops.\n",
      "\u001b[1m\n",
      "File \"..\\AppData\\Local\\Temp\\ipykernel_37632\\1385991434.py\", line 3:\u001b[0m\n",
      "\u001b[1m<source missing, REPL/exec in use?>\u001b[0m\n",
      "\u001b[0m\n",
      "  warnings.warn(errors.NumbaWarning(warn_msg,\n",
      "c:\\Users\\aasha\\Anaconda3\\lib\\site-packages\\numba\\core\\object_mode_passes.py:187: NumbaDeprecationWarning: \u001b[1m\n",
      "Fall-back from the nopython compilation path to the object mode compilation path has been detected, this is deprecated behaviour.\n",
      "\n",
      "For more information visit http://numba.pydata.org/numba-doc/latest/reference/deprecation.html#deprecation-of-object-mode-fall-back-behaviour-when-using-jit\n",
      "\u001b[1m\n",
      "File \"..\\AppData\\Local\\Temp\\ipykernel_37632\\1385991434.py\", line 3:\u001b[0m\n",
      "\u001b[1m<source missing, REPL/exec in use?>\u001b[0m\n",
      "\u001b[0m\n",
      "  warnings.warn(errors.NumbaDeprecationWarning(msg,\n"
     ]
    }
   ],
   "source": [
    "@jit(float64(float64[:]))\n",
    "def bubblesort(X):\n",
    "    N = len(X)\n",
    "    for end in range(N, 1, -1):\n",
    "        for i in range(end - 1):\n",
    "            cur = X[i]\n",
    "            if cur > X[i + 1]:\n",
    "                tmp = X[i]\n",
    "                X[i] = X[i + 1]\n",
    "                X[i + 1] = tmp"
   ]
  },
  {
   "cell_type": "code",
   "execution_count": 12,
   "metadata": {},
   "outputs": [
    {
     "name": "stdout",
     "output_type": "stream",
     "text": [
      "The slowest run took 4.58 times longer than the fastest. This could mean that an intermediate result is being cached.\n",
      "1.61 ms ± 1.12 ms per loop (mean ± std. dev. of 7 runs, 1 loop each)\n"
     ]
    }
   ],
   "source": [
    "\n",
    "%timeit sorted[:] = shuffled[:]; bubblesort(sorted)"
   ]
  },
  {
   "cell_type": "markdown",
   "metadata": {
    "id": "nKGykwJfoino"
   },
   "source": [
    "# Q2."
   ]
  },
  {
   "cell_type": "code",
   "execution_count": 13,
   "metadata": {
    "colab": {
     "base_uri": "https://localhost:8080/",
     "height": 134
    },
    "collapsed": true,
    "id": "bV8PfHmSofpG",
    "outputId": "a8fd0f64-1aaf-49c3-8305-e295e9b422b4"
   },
   "outputs": [
    {
     "data": {
      "image/png": "[encoded data removed]",
      "text/plain": [
       "<Figure size 640x480 with 1 Axes>"
      ]
     },
     "metadata": {},
     "output_type": "display_data"
    }
   ],
   "source": [
    "from scipy.stats import pareto\n",
    "import matplotlib.pyplot as plt\n",
    "\n",
    "import numpy as np\n",
    "import math\n",
    "from numba import vectorize,float64, cuda\n",
    "from numba import jit\n",
    "\n",
    "fig, ax = plt.subplots(1, 1)"
   ]
  },
  {
   "cell_type": "code",
   "execution_count": 14,
   "metadata": {
    "collapsed": true,
    "id": "PwPuIvpUov8D"
   },
   "outputs": [],
   "source": [
    "b=2.62\n",
    "#x = np.linspace(1.0, 5.7, 100)\n",
    "\n",
    "x = np.linspace(1.0, 5.7, 1000000) # Taking this value will give the proper time difference."
   ]
  },
  {
   "cell_type": "code",
   "execution_count": 15,
   "metadata": {
    "colab": {
     "base_uri": "https://localhost:8080/",
     "height": 392
    },
    "id": "WBU2TndBo9CZ",
    "outputId": "cea91fc2-2b69-4d69-f05e-d33cb25a03ae"
   },
   "outputs": [
    {
     "name": "stdout",
     "output_type": "stream",
     "text": [
      "227 ms ± 23.5 ms per loop (mean ± std. dev. of 7 runs, 10 loops each)\n"
     ]
    }
   ],
   "source": [
    "#Run this cell to know the time taken by original scipy implementation.\n",
    "\n",
    "%timeit pareto.pdf(x, b)"
   ]
  },
  {
   "cell_type": "code",
   "execution_count": 16,
   "metadata": {
    "id": "_1GSU-3yo_Yh"
   },
   "outputs": [],
   "source": [
    "# Write your code here for CPU_BASED optimization. Give new name as pareto_new_cpu()\n",
    "@vectorize\n",
    "def pareto_new_cpu(x, b):\n",
    "    return (b/(x**(b+1)))\n"
   ]
  },
  {
   "cell_type": "code",
   "execution_count": 17,
   "metadata": {},
   "outputs": [
    {
     "name": "stdout",
     "output_type": "stream",
     "text": [
      "114 ms ± 11.6 ms per loop (mean ± std. dev. of 7 runs, 1 loop each)\n"
     ]
    }
   ],
   "source": [
    "# Run this cell to check the performance of above implementation.\n",
    "\n",
    "%timeit pareto_new_cpu(x,b)"
   ]
  },
  {
   "cell_type": "code",
   "execution_count": 18,
   "metadata": {
    "collapsed": true
   },
   "outputs": [],
   "source": [
    "# Write your code here for GPU_BASED optimization. Give new name as pareto_new_gpu()\n",
    "@vectorize(['float64(float64, float64)'], target='cuda')\n",
    "\n",
    "def pareto_new_gpu(x, b):\n",
    "    return (b/(x**(b+1)))\n",
    "\n"
   ]
  },
  {
   "cell_type": "code",
   "execution_count": 19,
   "metadata": {},
   "outputs": [
    {
     "ename": "NvvmSupportError",
     "evalue": "libNVVM cannot be found. Do `conda install cudatoolkit`:\nCould not find module 'nvvm.dll' (or one of its dependencies). Try using the full path with constructor syntax.",
     "output_type": "error",
     "traceback": [
      "\u001b[1;31m---------------------------------------------------------------------------\u001b[0m",
      "\u001b[1;31mFileNotFoundError\u001b[0m                         Traceback (most recent call last)",
      "File \u001b[1;32mc:\\Users\\aasha\\Anaconda3\\lib\\site-packages\\numba\\cuda\\cudadrv\\nvvm.py:110\u001b[0m, in \u001b[0;36mNVVM.__new__\u001b[1;34m(cls)\u001b[0m\n\u001b[0;32m    109\u001b[0m \u001b[39mtry\u001b[39;00m:\n\u001b[1;32m--> 110\u001b[0m     inst\u001b[39m.\u001b[39mdriver \u001b[39m=\u001b[39m open_cudalib(\u001b[39m'\u001b[39;49m\u001b[39mnvvm\u001b[39;49m\u001b[39m'\u001b[39;49m)\n\u001b[0;32m    111\u001b[0m \u001b[39mexcept\u001b[39;00m \u001b[39mOSError\u001b[39;00m \u001b[39mas\u001b[39;00m e:\n",
      "File \u001b[1;32mc:\\Users\\aasha\\Anaconda3\\lib\\site-packages\\numba\\cuda\\cudadrv\\libs.py:56\u001b[0m, in \u001b[0;36mopen_cudalib\u001b[1;34m(lib)\u001b[0m\n\u001b[0;32m     55\u001b[0m path \u001b[39m=\u001b[39m get_cudalib(lib)\n\u001b[1;32m---> 56\u001b[0m \u001b[39mreturn\u001b[39;00m ctypes\u001b[39m.\u001b[39;49mCDLL(path)\n",
      "File \u001b[1;32mc:\\Users\\aasha\\Anaconda3\\lib\\ctypes\\__init__.py:373\u001b[0m, in \u001b[0;36mCDLL.__init__\u001b[1;34m(self, name, mode, handle, use_errno, use_last_error, winmode)\u001b[0m\n\u001b[0;32m    372\u001b[0m \u001b[39mif\u001b[39;00m handle \u001b[39mis\u001b[39;00m \u001b[39mNone\u001b[39;00m:\n\u001b[1;32m--> 373\u001b[0m     \u001b[39mself\u001b[39m\u001b[39m.\u001b[39m_handle \u001b[39m=\u001b[39m _dlopen(\u001b[39mself\u001b[39;49m\u001b[39m.\u001b[39;49m_name, mode)\n\u001b[0;32m    374\u001b[0m \u001b[39melse\u001b[39;00m:\n",
      "\u001b[1;31mFileNotFoundError\u001b[0m: Could not find module 'nvvm.dll' (or one of its dependencies). Try using the full path with constructor syntax.",
      "\nDuring handling of the above exception, another exception occurred:\n",
      "\u001b[1;31mNvvmSupportError\u001b[0m                          Traceback (most recent call last)",
      "\u001b[1;32mc:\\Users\\aasha\\Downloads\\Lab_7_Solution_partial.ipynb Cell 21\u001b[0m in \u001b[0;36m<cell line: 3>\u001b[1;34m()\u001b[0m\n\u001b[0;32m      <a href='vscode-notebook-cell:/c%3A/Users/aasha/Downloads/Lab_7_Solution_partial.ipynb#X26sZmlsZQ%3D%3D?line=0'>1</a>\u001b[0m \u001b[39m# Run this cell to check the performance of above implementation.  \u001b[39;00m\n\u001b[1;32m----> <a href='vscode-notebook-cell:/c%3A/Users/aasha/Downloads/Lab_7_Solution_partial.ipynb#X26sZmlsZQ%3D%3D?line=2'>3</a>\u001b[0m get_ipython()\u001b[39m.\u001b[39;49mrun_line_magic(\u001b[39m'\u001b[39;49m\u001b[39mtimeit\u001b[39;49m\u001b[39m'\u001b[39;49m, \u001b[39m'\u001b[39;49m\u001b[39mpareto_new_gpu(x,b)\u001b[39;49m\u001b[39m'\u001b[39;49m)\n",
      "File \u001b[1;32mc:\\Users\\aasha\\Anaconda3\\lib\\site-packages\\IPython\\core\\interactiveshell.py:2305\u001b[0m, in \u001b[0;36mInteractiveShell.run_line_magic\u001b[1;34m(self, magic_name, line, _stack_depth)\u001b[0m\n\u001b[0;32m   2303\u001b[0m     kwargs[\u001b[39m'\u001b[39m\u001b[39mlocal_ns\u001b[39m\u001b[39m'\u001b[39m] \u001b[39m=\u001b[39m \u001b[39mself\u001b[39m\u001b[39m.\u001b[39mget_local_scope(stack_depth)\n\u001b[0;32m   2304\u001b[0m \u001b[39mwith\u001b[39;00m \u001b[39mself\u001b[39m\u001b[39m.\u001b[39mbuiltin_trap:\n\u001b[1;32m-> 2305\u001b[0m     result \u001b[39m=\u001b[39m fn(\u001b[39m*\u001b[39;49margs, \u001b[39m*\u001b[39;49m\u001b[39m*\u001b[39;49mkwargs)\n\u001b[0;32m   2306\u001b[0m \u001b[39mreturn\u001b[39;00m result\n",
      "File \u001b[1;32mc:\\Users\\aasha\\Anaconda3\\lib\\site-packages\\IPython\\core\\magics\\execution.py:1162\u001b[0m, in \u001b[0;36mExecutionMagics.timeit\u001b[1;34m(self, line, cell, local_ns)\u001b[0m\n\u001b[0;32m   1160\u001b[0m \u001b[39mfor\u001b[39;00m index \u001b[39min\u001b[39;00m \u001b[39mrange\u001b[39m(\u001b[39m0\u001b[39m, \u001b[39m10\u001b[39m):\n\u001b[0;32m   1161\u001b[0m     number \u001b[39m=\u001b[39m \u001b[39m10\u001b[39m \u001b[39m*\u001b[39m\u001b[39m*\u001b[39m index\n\u001b[1;32m-> 1162\u001b[0m     time_number \u001b[39m=\u001b[39m timer\u001b[39m.\u001b[39;49mtimeit(number)\n\u001b[0;32m   1163\u001b[0m     \u001b[39mif\u001b[39;00m time_number \u001b[39m>\u001b[39m\u001b[39m=\u001b[39m \u001b[39m0.2\u001b[39m:\n\u001b[0;32m   1164\u001b[0m         \u001b[39mbreak\u001b[39;00m\n",
      "File \u001b[1;32mc:\\Users\\aasha\\Anaconda3\\lib\\site-packages\\IPython\\core\\magics\\execution.py:156\u001b[0m, in \u001b[0;36mTimer.timeit\u001b[1;34m(self, number)\u001b[0m\n\u001b[0;32m    154\u001b[0m gc\u001b[39m.\u001b[39mdisable()\n\u001b[0;32m    155\u001b[0m \u001b[39mtry\u001b[39;00m:\n\u001b[1;32m--> 156\u001b[0m     timing \u001b[39m=\u001b[39m \u001b[39mself\u001b[39;49m\u001b[39m.\u001b[39;49minner(it, \u001b[39mself\u001b[39;49m\u001b[39m.\u001b[39;49mtimer)\n\u001b[0;32m    157\u001b[0m \u001b[39mfinally\u001b[39;00m:\n\u001b[0;32m    158\u001b[0m     \u001b[39mif\u001b[39;00m gcold:\n",
      "File \u001b[1;32m<magic-timeit>:1\u001b[0m, in \u001b[0;36minner\u001b[1;34m(_it, _timer)\u001b[0m\n",
      "File \u001b[1;32mc:\\Users\\aasha\\Anaconda3\\lib\\site-packages\\numba\\cuda\\dispatcher.py:86\u001b[0m, in \u001b[0;36mCUDAUFuncDispatcher.__call__\u001b[1;34m(self, *args, **kws)\u001b[0m\n\u001b[0;32m     75\u001b[0m \u001b[39mdef\u001b[39;00m \u001b[39m__call__\u001b[39m(\u001b[39mself\u001b[39m, \u001b[39m*\u001b[39margs, \u001b[39m*\u001b[39m\u001b[39m*\u001b[39mkws):\n\u001b[0;32m     76\u001b[0m     \u001b[39m\"\"\"\u001b[39;00m\n\u001b[0;32m     77\u001b[0m \u001b[39m    *args: numpy arrays or DeviceArrayBase (created by cuda.to_device).\u001b[39;00m\n\u001b[0;32m     78\u001b[0m \u001b[39m           Cannot mix the two types in one call.\u001b[39;00m\n\u001b[1;32m   (...)\u001b[0m\n\u001b[0;32m     84\u001b[0m \u001b[39m                  the input arguments.\u001b[39;00m\n\u001b[0;32m     85\u001b[0m \u001b[39m    \"\"\"\u001b[39;00m\n\u001b[1;32m---> 86\u001b[0m     \u001b[39mreturn\u001b[39;00m CUDAUFuncMechanism\u001b[39m.\u001b[39;49mcall(\u001b[39mself\u001b[39;49m\u001b[39m.\u001b[39;49mfunctions, args, kws)\n",
      "File \u001b[1;32mc:\\Users\\aasha\\Anaconda3\\lib\\site-packages\\numba\\np\\ufunc\\deviceufunc.py:301\u001b[0m, in \u001b[0;36mUFuncMechanism.call\u001b[1;34m(cls, typemap, args, kws)\u001b[0m\n\u001b[0;32m    298\u001b[0m devout \u001b[39m=\u001b[39m cr\u001b[39m.\u001b[39mdevice_array(shape, resty, stream\u001b[39m=\u001b[39mstream)\n\u001b[0;32m    300\u001b[0m devarys\u001b[39m.\u001b[39mextend([devout])\n\u001b[1;32m--> 301\u001b[0m cr\u001b[39m.\u001b[39;49mlaunch(func, shape[\u001b[39m0\u001b[39;49m], stream, devarys)\n\u001b[0;32m    303\u001b[0m \u001b[39mif\u001b[39;00m any_device:\n\u001b[0;32m    304\u001b[0m     \u001b[39m# If any of the arguments are on device,\u001b[39;00m\n\u001b[0;32m    305\u001b[0m     \u001b[39m# Keep output on the device\u001b[39;00m\n\u001b[0;32m    306\u001b[0m     \u001b[39mreturn\u001b[39;00m devout\u001b[39m.\u001b[39mreshape(outshape)\n",
      "File \u001b[1;32mc:\\Users\\aasha\\Anaconda3\\lib\\site-packages\\numba\\cuda\\dispatcher.py:197\u001b[0m, in \u001b[0;36mCUDAUFuncMechanism.launch\u001b[1;34m(self, func, count, stream, args)\u001b[0m\n\u001b[0;32m    196\u001b[0m \u001b[39mdef\u001b[39;00m \u001b[39mlaunch\u001b[39m(\u001b[39mself\u001b[39m, func, count, stream, args):\n\u001b[1;32m--> 197\u001b[0m     func\u001b[39m.\u001b[39;49mforall(count, stream\u001b[39m=\u001b[39;49mstream)(\u001b[39m*\u001b[39;49margs)\n",
      "File \u001b[1;32mc:\\Users\\aasha\\Anaconda3\\lib\\site-packages\\numba\\cuda\\compiler.py:340\u001b[0m, in \u001b[0;36mForAll.__call__\u001b[1;34m(self, *args)\u001b[0m\n\u001b[0;32m    337\u001b[0m     \u001b[39mreturn\u001b[39;00m\n\u001b[0;32m    339\u001b[0m \u001b[39mif\u001b[39;00m \u001b[39misinstance\u001b[39m(\u001b[39mself\u001b[39m\u001b[39m.\u001b[39mkernel, AutoJitCUDAKernel):\n\u001b[1;32m--> 340\u001b[0m     kernel \u001b[39m=\u001b[39m \u001b[39mself\u001b[39;49m\u001b[39m.\u001b[39;49mkernel\u001b[39m.\u001b[39;49mspecialize(\u001b[39m*\u001b[39;49margs)\n\u001b[0;32m    341\u001b[0m \u001b[39melse\u001b[39;00m:\n\u001b[0;32m    342\u001b[0m     kernel \u001b[39m=\u001b[39m \u001b[39mself\u001b[39m\u001b[39m.\u001b[39mkernel\n",
      "File \u001b[1;32mc:\\Users\\aasha\\Anaconda3\\lib\\site-packages\\numba\\cuda\\compiler.py:844\u001b[0m, in \u001b[0;36mAutoJitCUDAKernel.specialize\u001b[1;34m(self, *args)\u001b[0m\n\u001b[0;32m    838\u001b[0m \u001b[39m'''\u001b[39;00m\n\u001b[0;32m    839\u001b[0m \u001b[39mCompile and bind to the current context a version of this kernel\u001b[39;00m\n\u001b[0;32m    840\u001b[0m \u001b[39mspecialized for the given *args*.\u001b[39;00m\n\u001b[0;32m    841\u001b[0m \u001b[39m'''\u001b[39;00m\n\u001b[0;32m    842\u001b[0m argtypes \u001b[39m=\u001b[39m \u001b[39mtuple\u001b[39m(\n\u001b[0;32m    843\u001b[0m     [\u001b[39mself\u001b[39m\u001b[39m.\u001b[39mtypingctx\u001b[39m.\u001b[39mresolve_argument_type(a) \u001b[39mfor\u001b[39;00m a \u001b[39min\u001b[39;00m args])\n\u001b[1;32m--> 844\u001b[0m kernel \u001b[39m=\u001b[39m \u001b[39mself\u001b[39;49m\u001b[39m.\u001b[39;49mcompile(argtypes)\n\u001b[0;32m    845\u001b[0m \u001b[39mreturn\u001b[39;00m kernel\n",
      "File \u001b[1;32mc:\\Users\\aasha\\Anaconda3\\lib\\site-packages\\numba\\cuda\\compiler.py:863\u001b[0m, in \u001b[0;36mAutoJitCUDAKernel.compile\u001b[1;34m(self, sig)\u001b[0m\n\u001b[0;32m    861\u001b[0m     \u001b[39mself\u001b[39m\u001b[39m.\u001b[39mdefinitions[(cc, argtypes)] \u001b[39m=\u001b[39m kernel\n\u001b[0;32m    862\u001b[0m     \u001b[39mif\u001b[39;00m \u001b[39mself\u001b[39m\u001b[39m.\u001b[39mbind:\n\u001b[1;32m--> 863\u001b[0m         kernel\u001b[39m.\u001b[39;49mbind()\n\u001b[0;32m    864\u001b[0m \u001b[39mreturn\u001b[39;00m kernel\n",
      "File \u001b[1;32mc:\\Users\\aasha\\Anaconda3\\lib\\site-packages\\numba\\cuda\\compiler.py:604\u001b[0m, in \u001b[0;36mCUDAKernel.bind\u001b[1;34m(self)\u001b[0m\n\u001b[0;32m    600\u001b[0m \u001b[39mdef\u001b[39;00m \u001b[39mbind\u001b[39m(\u001b[39mself\u001b[39m):\n\u001b[0;32m    601\u001b[0m     \u001b[39m\"\"\"\u001b[39;00m\n\u001b[0;32m    602\u001b[0m \u001b[39m    Force binding to current CUDA context\u001b[39;00m\n\u001b[0;32m    603\u001b[0m \u001b[39m    \"\"\"\u001b[39;00m\n\u001b[1;32m--> 604\u001b[0m     \u001b[39mself\u001b[39;49m\u001b[39m.\u001b[39;49m_func\u001b[39m.\u001b[39;49mget()\n",
      "File \u001b[1;32mc:\\Users\\aasha\\Anaconda3\\lib\\site-packages\\numba\\cuda\\compiler.py:480\u001b[0m, in \u001b[0;36mCachedCUFunction.get\u001b[1;34m(self)\u001b[0m\n\u001b[0;32m    478\u001b[0m cufunc \u001b[39m=\u001b[39m \u001b[39mself\u001b[39m\u001b[39m.\u001b[39mcache\u001b[39m.\u001b[39mget(device\u001b[39m.\u001b[39mid)\n\u001b[0;32m    479\u001b[0m \u001b[39mif\u001b[39;00m cufunc \u001b[39mis\u001b[39;00m \u001b[39mNone\u001b[39;00m:\n\u001b[1;32m--> 480\u001b[0m     ptx \u001b[39m=\u001b[39m \u001b[39mself\u001b[39;49m\u001b[39m.\u001b[39;49mptx\u001b[39m.\u001b[39;49mget()\n\u001b[0;32m    482\u001b[0m     \u001b[39m# Link\u001b[39;00m\n\u001b[0;32m    483\u001b[0m     linker \u001b[39m=\u001b[39m driver\u001b[39m.\u001b[39mLinker(max_registers\u001b[39m=\u001b[39m\u001b[39mself\u001b[39m\u001b[39m.\u001b[39mmax_registers)\n",
      "File \u001b[1;32mc:\\Users\\aasha\\Anaconda3\\lib\\site-packages\\numba\\cuda\\compiler.py:450\u001b[0m, in \u001b[0;36mCachedPTX.get\u001b[1;34m(self)\u001b[0m\n\u001b[0;32m    448\u001b[0m \u001b[39mif\u001b[39;00m ptx \u001b[39mis\u001b[39;00m \u001b[39mNone\u001b[39;00m:\n\u001b[0;32m    449\u001b[0m     arch \u001b[39m=\u001b[39m nvvm\u001b[39m.\u001b[39mget_arch_option(\u001b[39m*\u001b[39mcc)\n\u001b[1;32m--> 450\u001b[0m     ptx \u001b[39m=\u001b[39m nvvm\u001b[39m.\u001b[39;49mllvm_to_ptx(\u001b[39mself\u001b[39;49m\u001b[39m.\u001b[39;49mllvmir, opt\u001b[39m=\u001b[39;49m\u001b[39m3\u001b[39;49m, arch\u001b[39m=\u001b[39;49march,\n\u001b[0;32m    451\u001b[0m                            \u001b[39m*\u001b[39;49m\u001b[39m*\u001b[39;49m\u001b[39mself\u001b[39;49m\u001b[39m.\u001b[39;49m_extra_options)\n\u001b[0;32m    452\u001b[0m     \u001b[39mself\u001b[39m\u001b[39m.\u001b[39mcache[cc] \u001b[39m=\u001b[39m ptx\n\u001b[0;32m    453\u001b[0m     \u001b[39mif\u001b[39;00m config\u001b[39m.\u001b[39mDUMP_ASSEMBLY:\n",
      "File \u001b[1;32mc:\\Users\\aasha\\Anaconda3\\lib\\site-packages\\numba\\cuda\\cudadrv\\nvvm.py:486\u001b[0m, in \u001b[0;36mllvm_to_ptx\u001b[1;34m(llvmir, **opts)\u001b[0m\n\u001b[0;32m    478\u001b[0m \u001b[39mif\u001b[39;00m opts\u001b[39m.\u001b[39mpop(\u001b[39m'\u001b[39m\u001b[39mfastmath\u001b[39m\u001b[39m'\u001b[39m, \u001b[39mFalse\u001b[39;00m):\n\u001b[0;32m    479\u001b[0m     opts\u001b[39m.\u001b[39mupdate({\n\u001b[0;32m    480\u001b[0m         \u001b[39m'\u001b[39m\u001b[39mftz\u001b[39m\u001b[39m'\u001b[39m: \u001b[39mTrue\u001b[39;00m,\n\u001b[0;32m    481\u001b[0m         \u001b[39m'\u001b[39m\u001b[39mfma\u001b[39m\u001b[39m'\u001b[39m: \u001b[39mTrue\u001b[39;00m,\n\u001b[0;32m    482\u001b[0m         \u001b[39m'\u001b[39m\u001b[39mprec_div\u001b[39m\u001b[39m'\u001b[39m: \u001b[39mFalse\u001b[39;00m,\n\u001b[0;32m    483\u001b[0m         \u001b[39m'\u001b[39m\u001b[39mprec_sqrt\u001b[39m\u001b[39m'\u001b[39m: \u001b[39mFalse\u001b[39;00m,\n\u001b[0;32m    484\u001b[0m     })\n\u001b[1;32m--> 486\u001b[0m cu \u001b[39m=\u001b[39m CompilationUnit()\n\u001b[0;32m    487\u001b[0m libdevice \u001b[39m=\u001b[39m LibDevice(arch\u001b[39m=\u001b[39mopts\u001b[39m.\u001b[39mget(\u001b[39m'\u001b[39m\u001b[39march\u001b[39m\u001b[39m'\u001b[39m, \u001b[39m'\u001b[39m\u001b[39mcompute_20\u001b[39m\u001b[39m'\u001b[39m))\n\u001b[0;32m    488\u001b[0m \u001b[39m# New LLVM generate a shorthand for datalayout that NVVM does not know\u001b[39;00m\n",
      "File \u001b[1;32mc:\\Users\\aasha\\Anaconda3\\lib\\site-packages\\numba\\cuda\\cudadrv\\nvvm.py:145\u001b[0m, in \u001b[0;36mCompilationUnit.__init__\u001b[1;34m(self)\u001b[0m\n\u001b[0;32m    144\u001b[0m \u001b[39mdef\u001b[39;00m \u001b[39m__init__\u001b[39m(\u001b[39mself\u001b[39m):\n\u001b[1;32m--> 145\u001b[0m     \u001b[39mself\u001b[39m\u001b[39m.\u001b[39mdriver \u001b[39m=\u001b[39m NVVM()\n\u001b[0;32m    146\u001b[0m     \u001b[39mself\u001b[39m\u001b[39m.\u001b[39m_handle \u001b[39m=\u001b[39m nvvm_program()\n\u001b[0;32m    147\u001b[0m     err \u001b[39m=\u001b[39m \u001b[39mself\u001b[39m\u001b[39m.\u001b[39mdriver\u001b[39m.\u001b[39mnvvmCreateProgram(byref(\u001b[39mself\u001b[39m\u001b[39m.\u001b[39m_handle))\n",
      "File \u001b[1;32mc:\\Users\\aasha\\Anaconda3\\lib\\site-packages\\numba\\cuda\\cudadrv\\nvvm.py:115\u001b[0m, in \u001b[0;36mNVVM.__new__\u001b[1;34m(cls)\u001b[0m\n\u001b[0;32m    112\u001b[0m     \u001b[39mcls\u001b[39m\u001b[39m.\u001b[39m__INSTANCE \u001b[39m=\u001b[39m \u001b[39mNone\u001b[39;00m\n\u001b[0;32m    113\u001b[0m     errmsg \u001b[39m=\u001b[39m (\u001b[39m\"\u001b[39m\u001b[39mlibNVVM cannot be found. Do `conda install \u001b[39m\u001b[39m\"\u001b[39m\n\u001b[0;32m    114\u001b[0m               \u001b[39m\"\u001b[39m\u001b[39mcudatoolkit`:\u001b[39m\u001b[39m\\n\u001b[39;00m\u001b[39m%s\u001b[39;00m\u001b[39m\"\u001b[39m)\n\u001b[1;32m--> 115\u001b[0m     \u001b[39mraise\u001b[39;00m NvvmSupportError(errmsg \u001b[39m%\u001b[39m e)\n\u001b[0;32m    117\u001b[0m \u001b[39m# Find & populate functions\u001b[39;00m\n\u001b[0;32m    118\u001b[0m \u001b[39mfor\u001b[39;00m name, proto \u001b[39min\u001b[39;00m inst\u001b[39m.\u001b[39m_PROTOTYPES\u001b[39m.\u001b[39mitems():\n",
      "\u001b[1;31mNvvmSupportError\u001b[0m: libNVVM cannot be found. Do `conda install cudatoolkit`:\nCould not find module 'nvvm.dll' (or one of its dependencies). Try using the full path with constructor syntax."
     ]
    }
   ],
   "source": [
    "# Run this cell to check the performance of above implementation.  \n",
    "\n",
    "%timeit pareto_new_gpu(x,b)"
   ]
  },
  {
   "cell_type": "markdown",
   "metadata": {},
   "source": [
    "# Q3"
   ]
  },
  {
   "cell_type": "code",
   "execution_count": null,
   "metadata": {},
   "outputs": [],
   "source": [
    "from numba import njit"
   ]
  },
  {
   "cell_type": "code",
   "execution_count": null,
   "metadata": {},
   "outputs": [],
   "source": [
    "# Create on device memory variables here.\n",
    "d_x = cuda.to_device(x)\n",
    "d_b = cuda.to_device(b)\n"
   ]
  },
  {
   "cell_type": "code",
   "execution_count": null,
   "metadata": {},
   "outputs": [],
   "source": [
    "@vectorize([float64(float64, float64)])\n",
    "@njit\n",
    "def pareto_new(x,b):\n",
    "    return (b/(x**(b+1)))"
   ]
  },
  {
   "cell_type": "code",
   "execution_count": null,
   "metadata": {},
   "outputs": [],
   "source": [
    "%timeit pareto_new(d_x,d_b)"
   ]
  },
  {
   "cell_type": "code",
   "execution_count": null,
   "metadata": {
    "collapsed": true
   },
   "outputs": [],
   "source": [
    "# copy the output variable from device to host\n",
    "out_host = pareto_new(d_x,d_b)\n"
   ]
  },
  {
   "cell_type": "code",
   "execution_count": null,
   "metadata": {},
   "outputs": [],
   "source": [
    "out_host.shape"
   ]
  },
  {
   "cell_type": "code",
   "execution_count": null,
   "metadata": {},
   "outputs": [],
   "source": [
    "#plot pareto new \n",
    "plt.plot(x, out_host, 'r-', lw=5, alpha=0.6, label='pareto_new')\n"
   ]
  },
  {
   "cell_type": "code",
   "execution_count": null,
   "metadata": {},
   "outputs": [],
   "source": []
  }
 ],
 "metadata": {
  "colab": {
   "collapsed_sections": [],
   "provenance": []
  },
  "kernelspec": {
   "display_name": "Python 3.7.0 64-bit",
   "language": "python",
   "name": "python3"
  },
  "language_info": {
   "codemirror_mode": {
    "name": "ipython",
    "version": 3
   },
   "file_extension": ".py",
   "mimetype": "text/x-python",
   "name": "python",
   "nbconvert_exporter": "python",
   "pygments_lexer": "ipython3",
   "version": "3.7.0"
  },
  "vscode": {
   "interpreter": {
    "hash": "e534e48711db4d1e1c48977d0d14ff85b1f16d41bcc4fdfd88268a329b3c9d66"
   }
  }
 },
 "nbformat": 4,
 "nbformat_minor": 1
}
